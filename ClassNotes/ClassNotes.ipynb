{
 "cells": [
  {
   "cell_type": "markdown",
   "metadata": {},
   "source": [
    "## Stages In Project"
   ]
  },
  {
   "cell_type": "markdown",
   "metadata": {},
   "source": [
    "1. Identify Problem Statement.\n",
    "2. Understand The Business.\n",
    "    - whats the business all about.\n",
    "    - who runs the business.\n",
    "    - who is the target audience.\n",
    "    - where the business is running.\n",
    "    - when and why the issue happends.\n",
    "    - How business runs.\n",
    "\n",
    "    \n",
    "3. Data Collection.\n",
    "    - Ask right question.\n",
    "\n",
    "4. basic data Prepairtion for EDA.\n",
    "\n",
    "5. EDA gives insights.\n",
    "\n",
    "6. Data Preprocessing for modeling\n",
    "\n",
    "    - Feature engg.\n",
    "    - tranformation\n",
    "    - scaling etc\n",
    "\n",
    "7. Modeling: find best model and tune that best model.\n",
    "    \n",
    "    - cluster\n",
    "    - classification\n",
    "    - regression\n",
    "\n",
    "8. Evaluation:\n",
    "\n",
    "9. Deployment\n",
    "\n"
   ]
  },
  {
   "cell_type": "markdown",
   "metadata": {},
   "source": [
    "## Points to note"
   ]
  },
  {
   "cell_type": "markdown",
   "metadata": {},
   "source": [
    "1. total stops null value row can be deleted.\n",
    "2. route not required for modeling\n",
    "3. do describe and see additional_info null values  (use tranform) so remove additional_info .\n",
    "4. find unique values per columns, replace vistara,jet airways,multiple carrier, delhi.(check with value count) \n",
    "5. datof journey: split to day,month,year,week and weekday (use pd.datetimeindex or pd.datatime: convert col to data time first), example:  df.date_jounert=pd.datatime(df.date_jounert)\n",
    "6. dep_time split to hrs and min column\n",
    "7. arrival make in same format like dep_time and split hrs and min col\n",
    "8. duration convert to hours\n",
    "9.total stops are same meaniig of route, remove 'stops' from total stops and replace non-stop to 0\n"
   ]
  },
  {
   "cell_type": "code",
   "execution_count": null,
   "metadata": {},
   "outputs": [],
   "source": []
  },
  {
   "cell_type": "code",
   "execution_count": null,
   "metadata": {},
   "outputs": [],
   "source": []
  },
  {
   "cell_type": "code",
   "execution_count": null,
   "metadata": {},
   "outputs": [],
   "source": []
  },
  {
   "cell_type": "code",
   "execution_count": null,
   "metadata": {},
   "outputs": [],
   "source": []
  },
  {
   "cell_type": "code",
   "execution_count": null,
   "metadata": {},
   "outputs": [],
   "source": []
  },
  {
   "cell_type": "code",
   "execution_count": null,
   "metadata": {},
   "outputs": [],
   "source": []
  }
 ],
 "metadata": {
  "kernelspec": {
   "display_name": "Python 3",
   "language": "python",
   "name": "python3"
  },
  "language_info": {
   "codemirror_mode": {
    "name": "ipython",
    "version": 3
   },
   "file_extension": ".py",
   "mimetype": "text/x-python",
   "name": "python",
   "nbconvert_exporter": "python",
   "pygments_lexer": "ipython3",
   "version": "3.11.0"
  }
 },
 "nbformat": 4,
 "nbformat_minor": 2
}
